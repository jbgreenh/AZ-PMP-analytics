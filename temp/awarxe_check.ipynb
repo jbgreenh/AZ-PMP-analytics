{
 "cells": [
  {
   "cell_type": "code",
   "execution_count": 2,
   "metadata": {},
   "outputs": [],
   "source": [
    "import pandas as pd\n",
    "import datetime\n",
    "from utils.from_sftp import *"
   ]
  },
  {
   "attachments": {},
   "cell_type": "markdown",
   "metadata": {},
   "source": [
    "find the latest file"
   ]
  },
  {
   "cell_type": "code",
   "execution_count": 5,
   "metadata": {},
   "outputs": [
    {
     "name": "stdout",
     "output_type": "stream",
     "text": [
      "pulling awarxe file for 20221226\n",
      "file not found\n",
      "pulling awarxe file for 20221225\n",
      "file not found\n",
      "pulling awarxe file for 20221224\n",
      "file not found\n",
      "pulling awarxe file for 20221223\n",
      "file not found\n",
      "pulling awarxe file for 20221222\n",
      "file not found\n",
      "pulling awarxe file for 20221221\n"
     ]
    }
   ],
   "source": [
    "yesterday = datetime.datetime.now()\n",
    "while True:\n",
    "    try:\n",
    "        yesterday = yesterday - datetime.timedelta(days=1)\n",
    "        yesterday_str = yesterday.strftime('%Y%m%d')\n",
    "        awarxe = awarxe_from_sftp(yesterday_str)\n",
    "        break\n",
    "    except(FileNotFoundError):\n",
    "        print('file not found')\n",
    "        pass"
   ]
  },
  {
   "cell_type": "code",
   "execution_count": 6,
   "metadata": {},
   "outputs": [
    {
     "data": {
      "text/plain": [
       "Index(['email address', 'dea number', 'dea suffix', 'npi number', 'first name',\n",
       "       'last name', 'professional license number', 'professional license type',\n",
       "       'address 1', 'address 2', 'city', 'state', 'zip code', 'role category',\n",
       "       'role title', 'registration review date'],\n",
       "      dtype='object')"
      ]
     },
     "execution_count": 6,
     "metadata": {},
     "output_type": "execute_result"
    }
   ],
   "source": [
    "awarxe.columns"
   ]
  },
  {
   "cell_type": "code",
   "execution_count": 7,
   "metadata": {},
   "outputs": [
    {
     "data": {
      "text/plain": [
       "'2022-12-20'"
      ]
     },
     "execution_count": 7,
     "metadata": {},
     "output_type": "execute_result"
    }
   ],
   "source": [
    "awarxe['registration review date'].max()"
   ]
  },
  {
   "cell_type": "code",
   "execution_count": 11,
   "metadata": {},
   "outputs": [
    {
     "data": {
      "text/plain": [
       "37985    2022-12-20\n",
       "2420     2022-12-19\n",
       "46474    2022-12-19\n",
       "13172    2022-12-19\n",
       "27792    2022-12-19\n",
       "39890    2022-12-19\n",
       "18982    2022-12-19\n",
       "13616    2022-12-19\n",
       "30133    2022-12-19\n",
       "34861    2022-12-19\n",
       "38462    2022-12-19\n",
       "29175    2022-12-19\n",
       "58194    2022-12-19\n",
       "41450    2022-12-19\n",
       "16533    2022-12-19\n",
       "5992     2022-12-19\n",
       "21714    2022-12-19\n",
       "647      2022-12-19\n",
       "32082    2022-12-19\n",
       "29442    2022-12-19\n",
       "Name: registration review date, dtype: object"
      ]
     },
     "execution_count": 11,
     "metadata": {},
     "output_type": "execute_result"
    }
   ],
   "source": [
    "awarxe['registration review date'].sort_values(ascending=False).head(n=20)"
   ]
  }
 ],
 "metadata": {
  "kernelspec": {
   "display_name": "az",
   "language": "python",
   "name": "python3"
  },
  "language_info": {
   "codemirror_mode": {
    "name": "ipython",
    "version": 3
   },
   "file_extension": ".py",
   "mimetype": "text/x-python",
   "name": "python",
   "nbconvert_exporter": "python",
   "pygments_lexer": "ipython3",
   "version": "3.11.0rc1"
  },
  "orig_nbformat": 4,
  "vscode": {
   "interpreter": {
    "hash": "6ad16614c3eb37b19702fd338da9c21c8eb95f07f6a22a24496393fe78555b2a"
   }
  }
 },
 "nbformat": 4,
 "nbformat_minor": 2
}
