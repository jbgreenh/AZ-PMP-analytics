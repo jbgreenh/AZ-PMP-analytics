{
 "cells": [
  {
   "cell_type": "code",
   "execution_count": 1,
   "metadata": {},
   "outputs": [],
   "source": [
    "import pandas as pd\n",
    "from utils.from_sftp import *"
   ]
  },
  {
   "cell_type": "code",
   "execution_count": 2,
   "metadata": {},
   "outputs": [],
   "source": [
    "path_mid = '/Monthly/Patient_Requests_REPORTAE_48/AZ_PtReqByProfile_'\n",
    "sep = from_sftp(f'{path_mid}202209/Prescriber.csv')\n",
    "oct = from_sftp(f'{path_mid}202210/Prescriber.csv')\n",
    "nov = from_sftp(f'{path_mid}202211/Prescriber.csv')"
   ]
  },
  {
   "cell_type": "code",
   "execution_count": 3,
   "metadata": {},
   "outputs": [
    {
     "data": {
      "text/plain": [
       "Index(['last_name', 'first_name', 'dea_number', 'npi', 'prof_lic',\n",
       "       'nooflookup', 'noofinterstatelookup', 'noofdelegateslookup',\n",
       "       'totallookups'],\n",
       "      dtype='object')"
      ]
     },
     "execution_count": 3,
     "metadata": {},
     "output_type": "execute_result"
    }
   ],
   "source": [
    "sep.columns"
   ]
  },
  {
   "cell_type": "code",
   "execution_count": 4,
   "metadata": {},
   "outputs": [],
   "source": [
    "sep_q = sep['totallookups'].sum()\n",
    "oct_q = oct['totallookups'].sum()\n",
    "nov_q = nov['totallookups'].sum()"
   ]
  },
  {
   "cell_type": "code",
   "execution_count": 5,
   "metadata": {},
   "outputs": [
    {
     "name": "stdout",
     "output_type": "stream",
     "text": [
      "670448 + 648526 + 691368 = 2010342\n"
     ]
    }
   ],
   "source": [
    "print(f'{sep_q} + {oct_q} + {nov_q} = {sep_q + oct_q + nov_q}')"
   ]
  }
 ],
 "metadata": {
  "kernelspec": {
   "display_name": "az",
   "language": "python",
   "name": "python3"
  },
  "language_info": {
   "codemirror_mode": {
    "name": "ipython",
    "version": 3
   },
   "file_extension": ".py",
   "mimetype": "text/x-python",
   "name": "python",
   "nbconvert_exporter": "python",
   "pygments_lexer": "ipython3",
   "version": "3.11.0rc1"
  },
  "orig_nbformat": 4,
  "vscode": {
   "interpreter": {
    "hash": "6ad16614c3eb37b19702fd338da9c21c8eb95f07f6a22a24496393fe78555b2a"
   }
  }
 },
 "nbformat": 4,
 "nbformat_minor": 2
}
