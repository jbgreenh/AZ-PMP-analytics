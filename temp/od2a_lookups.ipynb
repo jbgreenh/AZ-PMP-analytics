{
 "cells": [
  {
   "cell_type": "code",
   "execution_count": null,
   "metadata": {},
   "outputs": [],
   "source": [
    "import pandas as pd\n",
    "import paramiko\n",
    "from utils.from_sftp import *\n",
    "paramiko.transport.banner_timeout = 3000"
   ]
  },
  {
   "cell_type": "code",
   "execution_count": null,
   "metadata": {},
   "outputs": [],
   "source": [
    "path_mid = '/Monthly/Patient_Requests_REPORTAE_48/AZ_PtReqByProfile_'\n",
    "fst = from_sftp(f'{path_mid}202212/Prescriber.csv')"
   ]
  },
  {
   "cell_type": "code",
   "execution_count": null,
   "metadata": {},
   "outputs": [],
   "source": [
    "snd = from_sftp(f'{path_mid}202301/Prescriber.csv')"
   ]
  },
  {
   "cell_type": "code",
   "execution_count": null,
   "metadata": {},
   "outputs": [],
   "source": [
    "thr = from_sftp(f'{path_mid}202302/Prescriber.csv')"
   ]
  },
  {
   "cell_type": "code",
   "execution_count": null,
   "metadata": {},
   "outputs": [],
   "source": [
    "fst.info()"
   ]
  },
  {
   "cell_type": "code",
   "execution_count": null,
   "metadata": {},
   "outputs": [],
   "source": [
    "fst_q = fst['totallookups'].sum()\n",
    "snd_q = snd['totallookups'].sum()\n",
    "thr_q = thr['totallookups'].sum()"
   ]
  },
  {
   "cell_type": "code",
   "execution_count": null,
   "metadata": {},
   "outputs": [],
   "source": [
    "print(f'{fst_q} + {snd_q} + {thr_q} = {fst_q + snd_q + thr_q}')"
   ]
  }
 ],
 "metadata": {
  "kernelspec": {
   "display_name": "az",
   "language": "python",
   "name": "python3"
  },
  "language_info": {
   "codemirror_mode": {
    "name": "ipython",
    "version": 3
   },
   "file_extension": ".py",
   "mimetype": "text/x-python",
   "name": "python",
   "nbconvert_exporter": "python",
   "pygments_lexer": "ipython3",
   "version": "3.11.0rc1"
  },
  "vscode": {
   "interpreter": {
    "hash": "6ad16614c3eb37b19702fd338da9c21c8eb95f07f6a22a24496393fe78555b2a"
   }
  }
 },
 "nbformat": 4,
 "nbformat_minor": 2
}
