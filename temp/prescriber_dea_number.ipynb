{
 "cells": [
  {
   "cell_type": "code",
   "execution_count": 1,
   "metadata": {},
   "outputs": [],
   "source": [
    "import pandas as pd"
   ]
  },
  {
   "cell_type": "code",
   "execution_count": 2,
   "metadata": {},
   "outputs": [
    {
     "name": "stderr",
     "output_type": "stream",
     "text": [
      "/tmp/ipykernel_2406/4250315.py:2: DtypeWarning: Columns (11) have mixed types. Specify dtype option on import or set low_memory=False.\n",
      "  deas = pd.read_csv('../deas/data/deas.csv', index_col=None)\n"
     ]
    }
   ],
   "source": [
    "dsr = pd.read_csv('data/dsr.csv', index_col=None)\n",
    "deas = pd.read_csv('../deas/data/deas.csv', index_col=None)"
   ]
  },
  {
   "cell_type": "code",
   "execution_count": 3,
   "metadata": {},
   "outputs": [],
   "source": [
    "all_presc = deas.query('`Business Activity Code` == \"C\" or `Business Activity Code` == \"M\"')"
   ]
  },
  {
   "cell_type": "code",
   "execution_count": 4,
   "metadata": {},
   "outputs": [],
   "source": [
    "dsr_presc = dsr.assign(prescriber=dsr['DEA'].isin(all_presc['DEA Number']))\n",
    "dsr_presc.to_clipboard(index=False)"
   ]
  }
 ],
 "metadata": {
  "kernelspec": {
   "display_name": "az",
   "language": "python",
   "name": "python3"
  },
  "language_info": {
   "codemirror_mode": {
    "name": "ipython",
    "version": 3
   },
   "file_extension": ".py",
   "mimetype": "text/x-python",
   "name": "python",
   "nbconvert_exporter": "python",
   "pygments_lexer": "ipython3",
   "version": "3.11.0rc1"
  },
  "orig_nbformat": 4,
  "vscode": {
   "interpreter": {
    "hash": "6ad16614c3eb37b19702fd338da9c21c8eb95f07f6a22a24496393fe78555b2a"
   }
  }
 },
 "nbformat": 4,
 "nbformat_minor": 2
}
