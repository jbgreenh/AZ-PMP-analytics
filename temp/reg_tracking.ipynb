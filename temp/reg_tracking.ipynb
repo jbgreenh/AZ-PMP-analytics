{
 "cells": [
  {
   "cell_type": "code",
   "execution_count": null,
   "metadata": {},
   "outputs": [],
   "source": [
    "import pandas as pd\n",
    "from utils.from_sftp import *"
   ]
  },
  {
   "attachments": {},
   "cell_type": "markdown",
   "metadata": {},
   "source": [
    "## enter the before/after date here"
   ]
  },
  {
   "cell_type": "code",
   "execution_count": null,
   "metadata": {},
   "outputs": [],
   "source": [
    "ba_date = '2023-01-01'"
   ]
  },
  {
   "attachments": {},
   "cell_type": "markdown",
   "metadata": {},
   "source": [
    "## set role category if desired, otherwise comment it out"
   ]
  },
  {
   "cell_type": "code",
   "execution_count": null,
   "metadata": {},
   "outputs": [],
   "source": [
    "awarxe = awarxe_from_sftp()\n",
    "# awarxe = awarxe[awarxe['role category'] == 'pharmacist']"
   ]
  },
  {
   "cell_type": "code",
   "execution_count": null,
   "metadata": {},
   "outputs": [],
   "source": [
    "before = awarxe[awarxe['registration review date'] < ba_date]\n",
    "after = awarxe[awarxe['registration review date'] >= ba_date]\n",
    "ttl = awarxe.shape[0]\n",
    "print(f'before: {before.shape[0]}')\n",
    "print(f'after: {after.shape[0]}')\n",
    "print(f'total: {ttl}')\n",
    "print(f'percent change: {(ttl - before.shape[0]) / before.shape[0] * 100}%')\n",
    "print('\\nrole categories:')\n",
    "print(awarxe['role category'].unique())\n",
    "print('\\nrole titles:')\n",
    "print(awarxe['role title'].unique())"
   ]
  },
  {
   "cell_type": "code",
   "execution_count": null,
   "metadata": {},
   "outputs": [],
   "source": [
    "stats = awarxe.groupby(awarxe['registration review date'].astype('datetime64[ns]').dt.strftime('%Y-%m'))['email address'].count().reset_index()\n",
    "stats.rename(columns={'email address':'count'}, inplace=True)\n",
    "stats.to_clipboard(index=None)\n",
    "stats"
   ]
  }
 ],
 "metadata": {
  "kernelspec": {
   "display_name": "az",
   "language": "python",
   "name": "python3"
  },
  "language_info": {
   "codemirror_mode": {
    "name": "ipython",
    "version": 3
   },
   "file_extension": ".py",
   "mimetype": "text/x-python",
   "name": "python",
   "nbconvert_exporter": "python",
   "pygments_lexer": "ipython3",
   "version": "3.11.0rc1"
  },
  "vscode": {
   "interpreter": {
    "hash": "6ad16614c3eb37b19702fd338da9c21c8eb95f07f6a22a24496393fe78555b2a"
   }
  }
 },
 "nbformat": 4,
 "nbformat_minor": 2
}
