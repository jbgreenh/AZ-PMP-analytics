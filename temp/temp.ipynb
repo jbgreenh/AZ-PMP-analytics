{
 "cells": [
  {
   "cell_type": "code",
   "execution_count": 2,
   "metadata": {},
   "outputs": [
    {
     "name": "stdout",
     "output_type": "stream",
     "text": [
      "testing 2468\n"
     ]
    }
   ],
   "source": [
    "test = 2468\n",
    "print(f'testing {test}')"
   ]
  }
 ],
 "metadata": {
  "kernelspec": {
   "display_name": "Python 3.10.5 ('az')",
   "language": "python",
   "name": "python3"
  },
  "language_info": {
   "codemirror_mode": {
    "name": "ipython",
    "version": 3
   },
   "file_extension": ".py",
   "mimetype": "text/x-python",
   "name": "python",
   "nbconvert_exporter": "python",
   "pygments_lexer": "ipython3",
   "version": "3.10.5"
  },
  "orig_nbformat": 4,
  "vscode": {
   "interpreter": {
    "hash": "12337812a4e854c912da4dcfc6f2e0c2da3fec7e88177873b38287718791ed76"
   }
  }
 },
 "nbformat": 4,
 "nbformat_minor": 2
}
